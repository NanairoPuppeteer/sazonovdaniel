{
  "nbformat": 4,
  "nbformat_minor": 0,
  "metadata": {
    "colab": {
      "provenance": [],
      "include_colab_link": true
    },
    "kernelspec": {
      "name": "python3",
      "display_name": "Python 3"
    },
    "language_info": {
      "name": "python"
    }
  },
  "cells": [
    {
      "cell_type": "markdown",
      "metadata": {
        "id": "view-in-github",
        "colab_type": "text"
      },
      "source": [
        "<a href=\"https://colab.research.google.com/github/NanairoPuppeteer/sazonovdaniel/blob/main/%D0%A1%D0%B0%D0%B7%D0%BE%D0%BD%D0%BE%D0%B2_2_3_%D0%94%D0%BE%D0%BC%D0%B0%D1%88%D0%BD%D1%8F%D1%8F_%D1%80%D0%B0%D0%B1%D0%BE%D1%82%D0%B0.ipynb\" target=\"_parent\"><img src=\"https://colab.research.google.com/assets/colab-badge.svg\" alt=\"Open In Colab\"/></a>"
      ]
    },
    {
      "cell_type": "markdown",
      "source": [
        "**Навигация по уроку**\n",
        "\n",
        "1. [Введение в Python. Синтаксис](https://colab.research.google.com/drive/1YBLgd6tZYlkhwpnEc4IM8tVnewLUnlUO#scrollTo=yqZjRAldfz_L)\n",
        "2. [Практика кода](https://colab.research.google.com/drive/1m-Ph90c-9S_gZchdG1ARoY2YjMTryKkl#scrollTo=UdxWiGmA63K2)\n",
        "3. Домашняя работа"
      ],
      "metadata": {
        "id": "ARGgA85EgS0p"
      }
    },
    {
      "cell_type": "markdown",
      "source": [
        "В домашней работе необходимо, используя знания теоретической части занятия и полученные практические навыки, решить, представленные ниже задачи. Для этого необходимо скопировать Блокнот (см. раздел 1.1.), решить в нем все задач, открыть общий доступ к Блокноту ((см. раздел 1.1.) и отправить ссылку на Блокнот куратору на проверку. Для прохождения урока необходимо решить минимум 2 задачи. Желаем удачи!"
      ],
      "metadata": {
        "id": "EdiQPIVgklWr"
      }
    },
    {
      "cell_type": "markdown",
      "source": [
        "## Задача 1. Приветствие."
      ],
      "metadata": {
        "id": "ZzjUAyrL6jgO"
      }
    },
    {
      "cell_type": "markdown",
      "source": [
        "**Условие.** Напишите программу, запрашивающую у пользователя его имя. В ответ\n",
        "на ввод на экране должно появиться приветствие с обращением по имени,\n",
        "введенному с клавиатуры ранее.\n"
      ],
      "metadata": {
        "id": "M4OAOB6s6mU7"
      }
    },
    {
      "cell_type": "code",
      "source": [
        "userName = input(\"Введите имя:\\n\")\n",
        "print(\"Ваше имя:\", userName)"
      ],
      "metadata": {
        "id": "C2W-ZDOF6mzF"
      },
      "execution_count": null,
      "outputs": []
    },
    {
      "cell_type": "markdown",
      "source": [
        "## Задача 2. Сувениры и безделушки."
      ],
      "metadata": {
        "id": "UG8mwj2-eALV"
      }
    },
    {
      "cell_type": "markdown",
      "source": [
        "**Условие.** Интернет-магазин занимается продажей различных сувениров и безделушек. Каждый сувенир весит 75 г, а безделушка – 112 г. Напишите программу, запрашивающую у пользователя количество тех и других покупок,\n",
        "после чего выведите на экран общий вес посылки.\n"
      ],
      "metadata": {
        "id": "ay2EfeBreALW"
      }
    },
    {
      "cell_type": "code",
      "source": [
        "souvenierCount = int(input(\"Введите количество сувениров: \"))\n",
        "miscCount = int(input(\"Введите количество бездедушек: \"))\n",
        "weight = souvenierCount * 75 + miscCount * 112\n",
        "print(\"Вес посылки:\", weight, \"г\")"
      ],
      "metadata": {
        "id": "WY-KRVHyeALX"
      },
      "execution_count": null,
      "outputs": []
    },
    {
      "cell_type": "markdown",
      "source": [
        "## Задача 3. Сложные проценты"
      ],
      "metadata": {
        "id": "v2IXqDTVeBfM"
      }
    },
    {
      "cell_type": "markdown",
      "source": [
        "**Условие.** Представьте, что вы открыли в банке сберегательный счет под 4 % годовых. Проценты банк рассчитывает в конце года и добавляет к сумме счета.\n",
        "Напишите программу, которая запрашивает у пользователя сумму первоначального депозита, после чего рассчитывает и выводит на экран сумму\n",
        "на счету в конце первого, второго и третьего годов. Все суммы должны\n",
        "быть округлены до двух знаков после запятой.\n",
        "\n"
      ],
      "metadata": {
        "id": "rGE3sh2ueBfN"
      }
    },
    {
      "cell_type": "code",
      "source": [
        "deposit = float(input(\"Изначальный депозит: \"))\n",
        "\n",
        "deposit = deposit * 1.04\n",
        "print(\"Сумма на счету в конце 1-го года: %.2f\" % deposit)\n",
        "\n",
        "deposit = deposit * 1.04\n",
        "print(\"Сумма на счету в конце 2-го года: %.2f\" % deposit)\n",
        "\n",
        "deposit = deposit * 1.04\n",
        "print(\"Сумма на счету в конце 3-го года: %.2f\" % deposit)\n"
      ],
      "metadata": {
        "id": "0DYIIu98eBfN",
        "colab": {
          "base_uri": "https://localhost:8080/"
        },
        "collapsed": true,
        "outputId": "488ff452-43b3-41f7-f3fd-13e1f5f4e4fd"
      },
      "execution_count": 5,
      "outputs": [
        {
          "output_type": "stream",
          "name": "stdout",
          "text": [
            "Изначальный депозит: 100\n",
            "Сумма на счету в конце 1-го года: 104.00\n",
            "Сумма на счету в конце 2-го года: 108.16\n",
            "Сумма на счету в конце 3-го года: 112.49\n"
          ]
        }
      ]
    },
    {
      "cell_type": "markdown",
      "source": [
        "## Задача 4. Арифметика"
      ],
      "metadata": {
        "id": "d9y6YzAvuW4l"
      }
    },
    {
      "cell_type": "markdown",
      "source": [
        "**Условие.** Создайте программу, которая запрашивает у пользователя два целых числа a и b, после чего выводит на экран результаты следующих математических операций:\n",
        "* сумма a и b;\n",
        "* разница между a и b;\n",
        "* произведение a и b;\n",
        "* частное от деления a на b;\n",
        "* остаток от деления a на b;\n",
        "* десятичный логарифм числа a;\n",
        "* результат возведения числа a в степень b."
      ],
      "metadata": {
        "id": "ZeZZ2IrUuW4m"
      }
    },
    {
      "cell_type": "code",
      "source": [
        "import math\n",
        "\n",
        "print(\"Введите a и b:\\n\")\n",
        "a = int(input(\"a = \"))\n",
        "b =  int(input(\"b = \"))\n",
        "\n",
        "print(\"a + b =\", a + b, end = \"\\n\")\n",
        "print(\"a - b =\", a - b, end = \"\\n\")\n",
        "print(\"a / b =\", int(a / b), end = \"\\n\")\n",
        "print(\"a % b =\", a % b, end = \"\\n\")\n",
        "print(\"log10(a) =\", math.log10(a), end = \"\\n\")\n",
        "print(\"a ^ b =\", math.pow(a, b), end = \"\\n\")\n"
      ],
      "metadata": {
        "id": "gCbjinmpuW4m"
      },
      "execution_count": null,
      "outputs": []
    },
    {
      "cell_type": "markdown",
      "source": [
        "## Задача 5. Размен"
      ],
      "metadata": {
        "id": "EcSSCSnpeBto"
      }
    },
    {
      "cell_type": "markdown",
      "source": [
        "**Условие.** Представьте, что вы пишете программное обеспечение для автоматической кассы в  магазине самообслуживания. Одной из функций, заложенных в кассу, должен быть расчет сдачи в случае оплаты покупателем наличными.\n",
        "Напишите программу, которая будет запрашивать у пользователя сумму сдачи в копейках. После этого она должна рассчитать и вывести на экран, сколько и каких монет потребуется для выдачи указанной суммы, при условии что должно быть задействовано минимально возможное количество монет. Допустим, у нас есть в распоряжении монеты достоинством в 1, 5, 10, 50 копеек, а также в 1, 2 и 5 рублей.\n"
      ],
      "metadata": {
        "id": "VfX5FQQreBtp"
      }
    },
    {
      "cell_type": "code",
      "source": [
        "coinValues = [500, 200, 100, 50, 10, 5, 1]\n",
        "\n",
        "change = int(input(\"Cумма сдачи в копейках: \"))\n",
        "\n",
        "print(\"Монеты:\\n\")\n",
        "for value in coinValues:\n",
        "  # Количество монет соответсвующего номинала\n",
        "  count = int(change/value)\n",
        "\n",
        "  # Номинал монеты (в рублях или копейках)\n",
        "  coin = \"%dк. -\" % value\n",
        "  if value >= 100:\n",
        "    coin = \"%dр. -\" % int(value/100)\n",
        "\n",
        "  print(coin, count, end = \"\\n\")\n",
        "  # Остальная сдача\n",
        "  change = change % value\n",
        "\n"
      ],
      "metadata": {
        "id": "4ecMH2bjeBtp"
      },
      "execution_count": null,
      "outputs": []
    },
    {
      "cell_type": "markdown",
      "source": [
        "## Задача 6. Вчерашний хлеб"
      ],
      "metadata": {
        "id": "26soP3cfeB8i"
      }
    },
    {
      "cell_type": "markdown",
      "source": [
        "**Условие.** Пекарня продает хлеб по 49 рублей за буханку. Скидка на вчерашний хлеб составляет 60 %. Напишите программу, которая будет запрашивать у пользователя количество приобретенных вчерашних буханок хлеба. В вывод на экран должны быть включены обычная цена за буханку, цена со скидкой и общая стоимость приобретенного хлеба. Все значения должны быть выведены на отдельных строках с соответствующими описаниями. Используйте для вывода формат с двумя знаками после запятой и 5-ю знакоместами.\n"
      ],
      "metadata": {
        "id": "t-cYNmWQeB8i"
      }
    },
    {
      "cell_type": "code",
      "source": [
        "price = 49\n",
        "discount = 0.6\n",
        "\n",
        "discountPrice = price - price*discount\n",
        "\n",
        "count = int(input(\"Сколько было куплено буханок вчерашнего хлеба? \"))\n",
        "\n",
        "print(\"Цена хлеба: %5.2fр. за буханку\" % price, end = \"\\n\")\n",
        "print(\"Цена вчерашнего хлеба: %5.2fр. за буханку (скидка %d%%)\" % (discountPrice, int(discount*100)), end = \"\\n\")\n",
        "print(\"Стоимость приобретенного хлеба: %5.2fр.\" % (discountPrice*count), end = \"\\n\")\n",
        "\n"
      ],
      "metadata": {
        "id": "R2-WoQoveB8j"
      },
      "execution_count": null,
      "outputs": []
    }
  ]
}