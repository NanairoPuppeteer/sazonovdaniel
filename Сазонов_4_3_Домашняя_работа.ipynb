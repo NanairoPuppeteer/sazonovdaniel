{
  "nbformat": 4,
  "nbformat_minor": 0,
  "metadata": {
    "colab": {
      "provenance": [],
      "include_colab_link": true
    },
    "kernelspec": {
      "name": "python3",
      "display_name": "Python 3"
    },
    "language_info": {
      "name": "python"
    }
  },
  "cells": [
    {
      "cell_type": "markdown",
      "metadata": {
        "id": "view-in-github",
        "colab_type": "text"
      },
      "source": [
        "<a href=\"https://colab.research.google.com/github/NanairoPuppeteer/sazonovdaniel/blob/main/%D0%A1%D0%B0%D0%B7%D0%BE%D0%BD%D0%BE%D0%B2_4_3_%D0%94%D0%BE%D0%BC%D0%B0%D1%88%D0%BD%D1%8F%D1%8F_%D1%80%D0%B0%D0%B1%D0%BE%D1%82%D0%B0.ipynb\" target=\"_parent\"><img src=\"https://colab.research.google.com/assets/colab-badge.svg\" alt=\"Open In Colab\"/></a>"
      ]
    },
    {
      "cell_type": "markdown",
      "source": [
        "**Навигация по уроку**\n",
        "\n",
        "1. [ Функции. Классы и объекты. Програмные модули](https://colab.research.google.com/drive/1LtSAdLzWIP-xTADXIktKF9yxsh0ioEqN#scrollTo=O0dFTIuYGKI4)\n",
        "2. [Практика кода](https://colab.research.google.com/drive/1GblqLwJKMaNBV4cIyrbQqt7Rsf-7Bbx7)\n",
        "3. Домашняя работа"
      ],
      "metadata": {
        "id": "8LIWrmOPjBO6"
      }
    },
    {
      "cell_type": "markdown",
      "source": [
        "Для прохождения урока необходимо решить минимум 2 задачи. Желаем удачи!"
      ],
      "metadata": {
        "id": "XpMXr5-w9Csf"
      }
    },
    {
      "cell_type": "markdown",
      "source": [
        "## Задача 1. Случайный номерной знак"
      ],
      "metadata": {
        "id": "Bh5tu_5BH-rG"
      }
    },
    {
      "cell_type": "markdown",
      "source": [
        "**Условие.** Представьте, что в вашем регионе устаревшим является формат номерных автомобильных знаков из трех букв, следом за которыми идут три цифры. Когда все номера такого шаблона закончились, было решено обновить формат, поставив в начало четыре цифры, а за ними три буквы.\n",
        "Напишите функцию, которая будет генерировать случайный номерной знак. При этом номера в старом и новом форматах должны создаваться примерно с одинаковой вероятностью. В основной программе нужно сгенерировать и вывести на экран случайный номерной знак."
      ],
      "metadata": {
        "id": "pLn92q_iLp_k"
      }
    },
    {
      "cell_type": "code",
      "execution_count": null,
      "metadata": {
        "id": "El4o9_QWeq78",
        "colab": {
          "base_uri": "https://localhost:8080/"
        },
        "outputId": "90b512ed-1c7c-49bc-9379-76069aaf95d0"
      },
      "outputs": [
        {
          "output_type": "stream",
          "name": "stdout",
          "text": [
            "2144FWS\n"
          ]
        }
      ],
      "source": [
        "from random import randint\n",
        "\n",
        "def randomPlate():\n",
        "    plate = \"\"\n",
        "    newPlate = randint(0, 1) == 1\n",
        "    plateLen = 6\n",
        "    if newPlate:\n",
        "        plateLen = 7\n",
        "\n",
        "    for i in range(plateLen):\n",
        "        if newPlate and i < 4 or not newPlate and i > 2:\n",
        "            plate += str(randint(0, 9))\n",
        "        else:\n",
        "            plate += chr(randint(65, 90))\n",
        "\n",
        "    return plate\n",
        "\n",
        "def main():\n",
        "    print(randomPlate())\n",
        "\n",
        "if __name__ == \"__main__\":\n",
        "    main()"
      ]
    },
    {
      "cell_type": "markdown",
      "source": [
        "## Задача 2. Шестнадцатеричные и десятичные числа"
      ],
      "metadata": {
        "id": "I4wpSF3IMHdX"
      }
    },
    {
      "cell_type": "markdown",
      "source": [
        "**Условие.** Напишите две функции с  именами hex2int и  int2hex для конвертации\n",
        "значений из шестнадцатеричной системы счисления (0, 1, 2, 3, 4, 5, 6, 7, 8, 9, A, B, C, D, E и F) в десятичную (по основанию 10) и обратно. Функция hex2int должна принимать на вход строку с единственным символом в  шестнадцатеричной системе и  преобразовывать его в  число от нуля до 15 в десятичной системе, тогда как функция int2hex будет выполнять обратное действие – принимать десятичное число из диапазона от 0 до 15 и возвращать шестнадцатеричный эквивалент. Обе функции должны принимать единственный параметр со входным значением и возвращать преобразованное число. Удостоверьтесь, что функция hex2int корректно обрабатывает буквы в верхнем и нижнем регистрах. Если введенное пользователем значение выходит за допустимые границы, вы должны вывести сообщение об ошибке."
      ],
      "metadata": {
        "id": "mYg_KnVwMStB"
      }
    },
    {
      "cell_type": "code",
      "source": [
        "def hex2int(ch):\n",
        "    if len(ch) > 1:\n",
        "        print(\"Строка %s слишком длинная\" % ch)\n",
        "    ch = ch.upper()\n",
        "    if ch <= 'F' and ch >= 'A':\n",
        "        return ord(ch) - 55\n",
        "    if ch <= '9' and ch >= '0':\n",
        "        return int(ch)\n",
        "    print(\"%s не является валидным шестнадцатеричным числом\" % ch)\n",
        "\n",
        "def int2hex(num):\n",
        "    if num < 0 or num > 15:\n",
        "        print(\"Число %d нельзя преобразовать в однозначное шестнадцатеричное число\" % num)\n",
        "    if num > 9:\n",
        "        return chr(55 + num)\n",
        "\n",
        "def main():\n",
        "    print(hex2int(input(\"hex2int: \")))\n",
        "    print(int2hex(int(input(\"int2hex: \"))))\n",
        "\n",
        "if __name__ == \"__main__\":\n",
        "    main()\n"
      ],
      "metadata": {
        "id": "j4R38AofMTBX",
        "colab": {
          "base_uri": "https://localhost:8080/"
        },
        "outputId": "f4eccbd4-a073-4b18-8458-bdab35ad5b51"
      },
      "execution_count": null,
      "outputs": [
        {
          "output_type": "stream",
          "name": "stdout",
          "text": [
            "hex2int: a\n",
            "10\n",
            "int2hex: 15\n",
            "F\n"
          ]
        }
      ]
    },
    {
      "cell_type": "markdown",
      "source": [
        "## Задача 3. Беспилотный автомобиль"
      ],
      "metadata": {
        "id": "RIOKyPjlMZA_"
      }
    },
    {
      "cell_type": "markdown",
      "source": [
        "**Условие.** Это творческая задача. Представьте, что вы проектируете беспилотный автомобиль. Вам необходимо продумать, какими свойствами он обладает и какие действия совершает. Создайте класс беспилотный автомобиль и сохраните его в виде программного модуля. Импортируете класс и инициализируйте новый объект.  "
      ],
      "metadata": {
        "id": "OlVQTKYrMZBA"
      }
    },
    {
      "cell_type": "code",
      "source": [
        "class Car:\n",
        "    currentSpeed = 0\n",
        "    currentFuel = 0\n",
        "    currentDistance = 0\n",
        "    isEngineRunning = False\n",
        "\n",
        "    def __init__(self, weight, topSpeed, fuelCapacity, color, model):\n",
        "        self.weight = weight\n",
        "        self.topSpeed = topSpeed\n",
        "        self.fuelCapacity = fuelCapacity\n",
        "        self.color = color\n",
        "        self.model = model\n",
        "\n",
        "    def startEngine(self):\n",
        "        if self.currentFuel > 0:\n",
        "            self.isEngineRunning = True\n",
        "\n",
        "    def stopEngine(self):\n",
        "        self.isEngineRunning = False\n",
        "\n",
        "    def refuel(self, amount):\n",
        "        self.currentFuel += amount\n",
        "        if self.currentFuel > self.fuelCapacity:\n",
        "            self.currentFuel = self.fuelCapacity\n",
        "\n",
        "    def accelerate(self, acceleration):\n",
        "        if self.isEngineRunning:\n",
        "            self.currentSpeed += acceleration\n",
        "            self.currentDistance += self.currentSpeed\n",
        "            self.currentFuel -= acceleration\n",
        "\n",
        "            if self.currentFuel <= 0:\n",
        "                self.stopEngine()\n",
        "\n",
        "            if self.currentSpeed > self.topSpeed:\n",
        "                self.currentSpeed = self.topSpeed\n",
        "\n",
        "    def brake(self, deceleration):\n",
        "        self.currentSpeed -= deceleration\n",
        "        self.currentDistance += self.currentSpeed\n",
        "        if self.currentSpeed < 0:\n",
        "            self.currentSpeed = 0\n",
        "\n",
        "    def drive(self):\n",
        "        if self.isEngineRunning:\n",
        "            self.currentFuel -= 1\n",
        "            self.currentDistance += self.currentSpeed\n",
        "\n",
        "            if self.currentFuel <= 0:\n",
        "                self.stopEngine()\n",
        "\n",
        "    def toString(self):\n",
        "        return \"Модель: %s\\nЦвет: %s\\nСкорость: %d м/с\\nПробег: %d м\" % (self.model, self.color, self.topSpeed, self.currentDistance)\n",
        "\n",
        "\n",
        "ferrari = Car(1570, 90, 1000, \"Красный\", \"Феррари Рома\")\n",
        "ferrari.refuel(1000)\n",
        "ferrari.startEngine()\n",
        "\n",
        "while ferrari.isEngineRunning and ferrari.currentSpeed < ferrari.topSpeed:\n",
        "    ferrari.accelerate(6)\n",
        "\n",
        "while ferrari.isEngineRunning:\n",
        "    ferrari.drive()\n",
        "\n",
        "while ferrari.currentSpeed > 0:\n",
        "    ferrari.brake(6)\n",
        "\n",
        "print(ferrari.toString())\n"
      ],
      "metadata": {
        "id": "U2JxR4KOMZBA",
        "colab": {
          "base_uri": "https://localhost:8080/"
        },
        "outputId": "cd4c0285-e91b-43c8-e485-8f4fabf2c70f"
      },
      "execution_count": null,
      "outputs": [
        {
          "output_type": "stream",
          "name": "stdout",
          "text": [
            "Модель: Феррари Рома\n",
            "Цвет: Красный\n",
            "Скорость: 90 м/с\n",
            "Пробег: 83250 м\n"
          ]
        }
      ]
    }
  ]
}