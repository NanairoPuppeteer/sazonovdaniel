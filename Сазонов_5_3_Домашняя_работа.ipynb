{
  "nbformat": 4,
  "nbformat_minor": 0,
  "metadata": {
    "colab": {
      "provenance": [],
      "include_colab_link": true
    },
    "kernelspec": {
      "name": "python3",
      "display_name": "Python 3"
    },
    "language_info": {
      "name": "python"
    }
  },
  "cells": [
    {
      "cell_type": "markdown",
      "metadata": {
        "id": "view-in-github",
        "colab_type": "text"
      },
      "source": [
        "<a href=\"https://colab.research.google.com/github/NanairoPuppeteer/sazonovdaniel/blob/main/%D0%A1%D0%B0%D0%B7%D0%BE%D0%BD%D0%BE%D0%B2_5_3_%D0%94%D0%BE%D0%BC%D0%B0%D1%88%D0%BD%D1%8F%D1%8F_%D1%80%D0%B0%D0%B1%D0%BE%D1%82%D0%B0.ipynb\" target=\"_parent\"><img src=\"https://colab.research.google.com/assets/colab-badge.svg\" alt=\"Open In Colab\"/></a>"
      ]
    },
    {
      "cell_type": "markdown",
      "source": [
        "**Навигация по уроку**\n",
        "\n",
        "1. [Нейронные сети. Математическая модель нейрона.](https://colab.research.google.com/drive/1XXxO2vyd9IDYT23tQrVMAAYeHYn-Awww)\n",
        "2. [Нейронные сети. Функции активации](https://colab.research.google.com/drive/1mhEEhb3mdE5mKFIvOiC5tHvkPiWD8DBj)\n",
        "3. Домашняя работа"
      ],
      "metadata": {
        "id": "8LIWrmOPjBO6"
      }
    },
    {
      "cell_type": "markdown",
      "source": [
        "## Задача 1. Класс Neuron"
      ],
      "metadata": {
        "id": "B5IghQAm20sG"
      }
    },
    {
      "cell_type": "markdown",
      "source": [
        "**Условие** Используя примеры из теоретической части 5.1 и 5.2, составьте класс Neuron модели нейрона, принимающего на вход от одного до 10 входных параметров. Запрещается пользоваться библиотекой numpy. На вход подается список. Матричное умножение реализуется с помощью циклов самостоятельно. Класс содержит методы для вычисления взвешенной суммы, а также содержит функции активации из урока."
      ],
      "metadata": {
        "id": "BxRUPNKFrxow"
      }
    },
    {
      "cell_type": "code",
      "execution_count": 4,
      "metadata": {
        "id": "El4o9_QWeq78"
      },
      "outputs": [],
      "source": [
        "from math import exp, tanh\n",
        "\n",
        "class Neuron:\n",
        "    def __init__(self, wi):\n",
        "        self.wi = wi\n",
        "\n",
        "    # Сумматор\n",
        "    def y(self, xi):\n",
        "        s = 0\n",
        "        for x, w in zip(xi, self.wi):\n",
        "            s += x * w\n",
        "        return s\n",
        "\n",
        "    # Функции активации\n",
        "    def sigmoid(self, x):\n",
        "        return 1 / (1 + exp(x))\n",
        "\n",
        "    def onestep(self, x):\n",
        "        if x >= 0:\n",
        "            return 1\n",
        "        else:\n",
        "            return 0\n",
        "\n",
        "    def tanh(self, x):\n",
        "        return tanh(x)\n",
        "\n",
        "    def ReLU(self, x):\n",
        "        if x > 0:\n",
        "            return x\n",
        "        else:\n",
        "            return 0\n",
        "\n",
        "    def LeakyReLU(self, x):\n",
        "        if x > 0:\n",
        "            return x\n",
        "        else:\n",
        "            return x*0.1\n",
        "\n",
        "    def ELU(self, x):\n",
        "        if x > 0:\n",
        "            return x\n",
        "        else:\n",
        "            return 0.1 * (exp(x)-1)\n"
      ]
    },
    {
      "cell_type": "markdown",
      "source": [
        "## Задача 2. Класс Neuron (продолжение)"
      ],
      "metadata": {
        "id": "BXPoR8av3AUx"
      }
    },
    {
      "cell_type": "markdown",
      "source": [
        "**Условие.** Используя класс Neuron из первой задачи, придумать свой пример на принятие решения (по аналогии с задачей \"о рыбаке и рыбке\"), не менее 4 входных параметров, веса установить произвольно из логики задачи, произвести расчёт функций активаций, определённых в классе первой задачи."
      ],
      "metadata": {
        "id": "KLC5Gv3L3CP_"
      }
    },
    {
      "cell_type": "code",
      "source": [
        "'''\n",
        "    Задача: модель определяет вероятность дождя\n",
        "    Входные параметры:\n",
        "        Температура: float 0 - 1, где 1 - наиболее способсвующая дождю температура,\n",
        "            а 0 - температура, при которой дождь невозможен (t < 0C и t > 50C)\n",
        "        Влажность: float 0 - 1, где 1 - 100% влажность, 0 - 0% влажность\n",
        "        Давление: float 0 - 1, где 1 - тенденция к падению давления, 0 - тенденция к повышению\n",
        "        Ветер: float 0 - 1, где 1 - сильный западный ветер (считаем что повышает вероятность дождя),\n",
        "            а 0 - нет ветра или слабый восточный ветер (считаем что понижает вероятность)\n",
        "        Прошлые наблюдения: float 0 - 1, где 1 - если в посление несколько дней постоянно идет дождь,\n",
        "            а 0 - если в последние несколько дней - сухая погода\n",
        "        Сезон: float 0 - 1, где 1 - в конце мая и начале октября, 0 - в середине июля и в конце января\n",
        "'''\n",
        "Wi = [\n",
        "    7.0, # Температура\n",
        "    2.0, # Влажность\n",
        "    2.0, # Давление\n",
        "    3.0, # Ветер\n",
        "    3.0, # Прошлые наблюдения\n",
        "    4.0, # Сезон\n",
        "]\n",
        "\n",
        "# Считаем вероятность дождя при умереной температуре, высокой влажности, падающем давлениии\n",
        "# умереном западном ветре, после нескольких сухих дней в мокрый сезон\n",
        "Xi = [\n",
        "    0.5, # Температура\n",
        "    0.8, # Влажность\n",
        "    0.1, # Давление\n",
        "    0.6, # Ветер\n",
        "    0.1, # Прошлые наблюдения\n",
        "    0.9, # Сезон\n",
        "]\n",
        "\n",
        "n = Neuron(Wi)\n",
        "bias = 10\n",
        "S = n.y(Xi) - bias\n",
        "print(\"Сумма:\", S)\n",
        "print(\"Хевисайд\", n.onestep(S))\n",
        "print(\"Сигмоида\", n.sigmoid(S))\n",
        "print(\"Гиперболический тангенс\", n.tanh(S))\n",
        "print(\"ReLU\", n.ReLU(S))\n",
        "print(\"LeakyReLU\", n.LeakyReLU(S))\n",
        "print(\"ELU\", n.ELU(S))\n"
      ],
      "metadata": {
        "id": "yr-i4FFg3DAf",
        "colab": {
          "base_uri": "https://localhost:8080/"
        },
        "outputId": "650fbea3-afeb-4ad1-e5ce-945c9fa79cc0"
      },
      "execution_count": 7,
      "outputs": [
        {
          "output_type": "stream",
          "name": "stdout",
          "text": [
            "Сумма: 1.0\n",
            "Хевисайд 1\n",
            "Сигмоида 0.2689414213699951\n",
            "Гиперболический тангенс 0.7615941559557649\n",
            "ReLU 1.0\n",
            "LeakyReLU 1.0\n",
            "ELU 1.0\n"
          ]
        }
      ]
    }
  ]
}